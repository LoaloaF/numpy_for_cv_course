{
 "cells": [
  {
   "cell_type": "markdown",
   "id": "501c7eab",
   "metadata": {},
   "source": [
    "# Learning NumPy with computer vision - 2\n",
    "The last notebook familarized you with basic numpy functionalities. Now let's move on to something more practical - images. What do images have to do with numpy? Well, quite a lot actually if you consider that an image is a two dimensional grid of pixel values. A grayscale image of dimesions 512x512 can easily be represented by a numpy array of shape 512x512. Can you think of the dimensions of an RGB image? "
   ]
  },
  {
   "cell_type": "markdown",
   "id": "bd9e7cce",
   "metadata": {},
   "source": [
    "In order to work with images we need an additional library called scikit-image. You can use it by running the code below. But first, install scikit-image by running `conda install sckit-image` or `pip install scikit-image`"
   ]
  },
  {
   "cell_type": "code",
   "execution_count": null,
   "id": "eb3edc33",
   "metadata": {},
   "outputs": [],
   "source": [
    "import skimage"
   ]
  },
  {
   "cell_type": "markdown",
   "id": "b4bb1060",
   "metadata": {},
   "source": [
    "sckikit image comes with a bunch of example images, for example the astronaut. You can check the available images here: https://scikit-image.org/docs/stable/auto_examples/data/plot_general.html#sphx-glr-auto-examples-data-plot-general-py\n"
   ]
  },
  {
   "cell_type": "markdown",
   "id": "8ee38666",
   "metadata": {},
   "source": [
    "------------\n",
    "#### Exercise 1: Load the astronout image and output it's shape, datatype and the 100x100 values in the upper left corner. Draw both the whole image and the top left corner using matplotlib's imshow function.  "
   ]
  },
  {
   "cell_type": "code",
   "execution_count": null,
   "id": "dbba29f0",
   "metadata": {},
   "outputs": [],
   "source": [
    "# Ex1: your code goes here\n",
    "\n",
    "# skimage.data.astronaut()"
   ]
  },
  {
   "cell_type": "markdown",
   "id": "4b58d736",
   "metadata": {},
   "source": [
    "------------\n",
    "#### Exercise 2: Output the minimum-, maximum-, and mean pixel values of the astronout image. Hint: google the respective numpy functions if you need to!"
   ]
  },
  {
   "cell_type": "code",
   "execution_count": null,
   "id": "b7400e94",
   "metadata": {},
   "outputs": [],
   "source": [
    "# Ex2: your code goes here\n"
   ]
  },
  {
   "cell_type": "markdown",
   "id": "79abceba",
   "metadata": {},
   "source": [
    "-------\n",
    "#### Exercise 3: Load the 'camera' sample data from skimage.data and display it using imshow. Which shape does the image have and how is it different from the astronaut image? Convert the image to RGB format (i) using the numpy.stack function and (ii) using numpy.concatenate. How does the functionlity of these functions differ from one another? Hint: Check the shape of the RGB astronaut image again."
   ]
  },
  {
   "cell_type": "code",
   "execution_count": null,
   "id": "d8390ba0",
   "metadata": {},
   "outputs": [],
   "source": [
    "# Ex3: your code goes here\n"
   ]
  },
  {
   "cell_type": "markdown",
   "id": "64d81a80",
   "metadata": {},
   "source": [
    "------------\n",
    "#### Exercise 4: Load the 'camera' sample data from skimage.data again and display it using imshow. Threshold the image such that pixels below a certain threshold are set to 0 (black)  and above are set to 255 (white). Save the thresholded image inside a variable and display it."
   ]
  },
  {
   "cell_type": "code",
   "execution_count": null,
   "id": "0bee99be",
   "metadata": {},
   "outputs": [],
   "source": [
    "# Ex4: your code goes here\n",
    "\n",
    "\n"
   ]
  },
  {
   "cell_type": "markdown",
   "id": "5ccf88c0",
   "metadata": {},
   "source": [
    "--------\n",
    "#### Exercise 5: Instead of using an explicit threshold like above, we can use a predefined threshold function that finds the optimal thresholding value. Lookup the use of skimage.filters.threshold_otsu and use it for threshholding the 'camera' image."
   ]
  },
  {
   "cell_type": "code",
   "execution_count": null,
   "id": "3043fb5e",
   "metadata": {},
   "outputs": [],
   "source": [
    "# Ex 5: your code goes here \n"
   ]
  },
  {
   "cell_type": "markdown",
   "id": "c2ed070f",
   "metadata": {},
   "source": [
    "--------\n",
    "#### Exercise 6: Lookup the famous 'Hope' poster of Barack Obama. Thiis illustration is composed of a set of regions that share the same color. Can you use the binary_closing a perhaps other skimage.morphology / skimage.filters methods to produce an image that has clearly seperated black and white regions?"
   ]
  },
  {
   "cell_type": "code",
   "execution_count": null,
   "id": "f73d5ec9",
   "metadata": {},
   "outputs": [],
   "source": [
    "# Ex 6: your code goes here\n"
   ]
  },
  {
   "cell_type": "markdown",
   "id": "66af3d1d",
   "metadata": {},
   "source": [
    "--------\n",
    "A black and white image can be seen as a boolean array of True and False values. This is commonly referred to as a mask. Why? Because we can put this boolean array on another image of the same dimesion to select the mask specific region. This might sound a bit  abstract. Let's see a simple mask example in  practise. A mask can be used similar to slices or indexes that we saw before: `arr[arr_mask]`. Go through the examples below.\n"
   ]
  },
  {
   "cell_type": "code",
   "execution_count": null,
   "id": "5928033f",
   "metadata": {},
   "outputs": [],
   "source": [
    "arr = np.array([[11, 4, 55],\n",
    "                [22, 5, 66],\n",
    "                [33, 6, 77],])\n",
    "\n",
    "arr_mask = np.array([[True, True, True],\n",
    "                     [False, False, False],\n",
    "                     [False, True, False],])\n",
    "output1 = arr[arr_mask]\n",
    "\n",
    "output2 = arr.copy()\n",
    "output2[arr_mask] = -1\n",
    "\n",
    "output3 = arr.copy()\n",
    "output3[~arr_mask] += 1000"
   ]
  },
  {
   "cell_type": "markdown",
   "id": "b72ae81b",
   "metadata": {},
   "source": [
    "#### Exercise 7: Print out the three outputs from the cell above (`output1, output2, outpu3`) and infer how masking works in numpy. How does `output1` differ from the other two in terms of its shape? What does the `~` operator do?\n"
   ]
  },
  {
   "cell_type": "code",
   "execution_count": null,
   "id": "316d3b15",
   "metadata": {},
   "outputs": [],
   "source": [
    "# Ex 7: your code goes here\n"
   ]
  },
  {
   "cell_type": "markdown",
   "id": "0d48debf",
   "metadata": {},
   "source": [
    "#### Exercise 8: Let's use masking in a real example. Load the camera image again and create an image mask using thresholding as done in exercise 5 and 6. The mask should be True where image values are larger than 120, and False where they are smaller. Use this mask to set the camera image values to 240 where the mask is True and display this image passing `cmap='gray'` to the imshow function. Can you explain the result?"
   ]
  },
  {
   "cell_type": "code",
   "execution_count": null,
   "id": "337c691d",
   "metadata": {},
   "outputs": [],
   "source": [
    "# Ex 8: your code goes here\n"
   ]
  }
 ],
 "metadata": {
  "kernelspec": {
   "display_name": "Python 3 (ipykernel)",
   "language": "python",
   "name": "python3"
  },
  "language_info": {
   "codemirror_mode": {
    "name": "ipython",
    "version": 3
   },
   "file_extension": ".py",
   "mimetype": "text/x-python",
   "name": "python",
   "nbconvert_exporter": "python",
   "pygments_lexer": "ipython3",
   "version": "3.9.15"
  }
 },
 "nbformat": 4,
 "nbformat_minor": 5
}
