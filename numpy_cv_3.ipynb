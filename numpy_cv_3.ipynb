{
 "cells": [
  {
   "cell_type": "markdown",
   "id": "0b27ec45",
   "metadata": {},
   "source": [
    "# From images to videos - 3\n",
    "Now that we understand the connection between images and numpy arrays we can move on to videos! This fits the theme because the temporal dimension of a video extends intuitively to numpy arrays representing a sequence of RGB images. The library we need for this is called open-cv (open source computer vision), and it is imported by calling `import cv2`"
   ]
  },
  {
   "attachments": {},
   "cell_type": "markdown",
   "id": "0512a432",
   "metadata": {},
   "source": [
    "Setting up your environment to work with videos can be a bit tricky sometimes because rendering a video relies on GPU code and video codex. First try running the cell below. If there are no errors, everything is good! If you do get an error, try installing open-cv with anaconda by running ` conda install -c conda-forge opencv` in your terminal. If you prefer pip, run `pip install opencv-python`. If you have problems with running the code below google your error message and ask for help from an instructor! "
   ]
  },
  {
   "cell_type": "code",
   "execution_count": null,
   "id": "5f25f6f2",
   "metadata": {},
   "outputs": [],
   "source": [
    "# we first want to import the library, also import numpy\n",
    "import cv2 as cv\n",
    "import numpy as np"
   ]
  },
  {
   "cell_type": "markdown",
   "id": "fa494827",
   "metadata": {},
   "source": [
    "The code below uses the open-cv library to read a video from a file and display it. Try executing the cell as it is. You can quit the player by pressing `q`. You don't need to understand each line in detail, but try to understand the general approach behind displaying the video."
   ]
  },
  {
   "cell_type": "code",
   "execution_count": null,
   "id": "5e7e738d",
   "metadata": {},
   "outputs": [],
   "source": [
    "# we first create a capture object that reads the video file\n",
    "capture = cv.VideoCapture('dog_video.mp4')\n",
    "\n",
    "while True:\n",
    "    # in an infinite loop, we read frames from the file buffer\n",
    "    # we get back two values, a True or False value indicating\n",
    "    # if we actually got a frame, and the frame itself\n",
    "    got_frame, frame = capture.read()\n",
    "    \n",
    "    # because we have a while True loop, we need to have an exit\n",
    "    # condition. This is handled below\n",
    "    if not got_frame or cv.waitKey(30) & 0xFF==ord('q'):\n",
    "        break\n",
    "    else:\n",
    "        # if we do get a frame, display it using the imshow function\n",
    "        cv.imshow('video player', frame)\n",
    "        # your code goes here\n",
    "\n",
    "# finally, we always need to close the file reader in video player window\n",
    "capture.release()\n",
    "cv.destroyAllWindows()"
   ]
  },
  {
   "cell_type": "code",
   "execution_count": null,
   "id": "c9266e14",
   "metadata": {},
   "outputs": [],
   "source": [
    "# this is simply a function to play a video in numpy format\n",
    "def play_video(arr):\n",
    "    for frame_id in range(arr.shape[0]):\n",
    "        if cv.waitKey(100) & 0xFF==ord('q'):\n",
    "            break\n",
    "        else:\n",
    "            cv.imshow('videoplayer', arr[frame_id])\n",
    "    cv.destroyAllWindows()"
   ]
  },
  {
   "cell_type": "markdown",
   "id": "27fff62c",
   "metadata": {},
   "source": [
    "-------------\n",
    "#### Exercise 0 [Optional]: Record your own video using your webcam. It should not be longer than 8 seconds to limit the computational load. The video could be of your face or something else. Save this video and place it in the same folder where this notebook file is located. Finally, change the filename in the code above from `dog_video.mp4` to your filename. "
   ]
  },
  {
   "cell_type": "markdown",
   "id": "3ff56a7b",
   "metadata": {},
   "source": [
    "#### Exercise 1: Displaying a video is useful for sure, but going foward we want to modify the video frames using numpy. First,  copy the code from above into the cell below. Next, create an empty list above the while loop. Everytime you get a frame, append it to this list. After the loop has finished use the `numpy.stack` function to create one big numpy array. What is the shape of this final array and what do the dimensions refer to? What is the dtype of the array?\n"
   ]
  },
  {
   "cell_type": "code",
   "execution_count": null,
   "id": "60d08a4d",
   "metadata": {},
   "outputs": [],
   "source": [
    "# Ex1: your code goes here\n"
   ]
  },
  {
   "cell_type": "markdown",
   "id": "6d6e536d",
   "metadata": {},
   "source": [
    "-------------\n",
    "#### Exercise 2: With numpy's `.copy()` function make a copy of the original video. In that new video, binarize each RGB channel at the threshold of 60 so that the image contains pixel intensities of 0 and 255. Hint: To do this elgegantly, create the mask by comparing the video array with a 3-element array. What shape does the mask have? Play the video using the `play_video(your_arr)` function defined above and intepret the 8 colors in the video.  "
   ]
  },
  {
   "cell_type": "code",
   "execution_count": null,
   "id": "5de62731",
   "metadata": {},
   "outputs": [],
   "source": [
    "# Ex2: your code goes here \n"
   ]
  },
  {
   "cell_type": "markdown",
   "id": "4e7fb7be",
   "metadata": {},
   "source": [
    "-------------\n",
    "#### Exercise 3: Filter your recorded video such that the first 50 frames contain only red colors, everything past that should only have green colors.  Save the result in a new array called `arr_single_col` and check th result by playing it with the cell below. What's the order of red green and blue in the color dimension?"
   ]
  },
  {
   "cell_type": "code",
   "execution_count": null,
   "id": "55a99c59",
   "metadata": {},
   "outputs": [],
   "source": [
    "# Ex3: your code goes here \n"
   ]
  },
  {
   "cell_type": "markdown",
   "id": "e0e2301f",
   "metadata": {},
   "source": [
    "#### Exercise 4: The dog in the video has a brown/ orange colored fur. In RGB values, this color roughly corresbonds to red content between 40-184, green 25-110, and blue 0-50. Create a mask for each color channel, then connect them with a logical AND to set all values in this range to white (255). Again create a copy of the video for this exercise and display it using the `play_video()` function."
   ]
  },
  {
   "cell_type": "code",
   "execution_count": null,
   "id": "8c92a6b3",
   "metadata": {},
   "outputs": [],
   "source": [
    "# Ex4: your code goes here\n"
   ]
  },
  {
   "cell_type": "markdown",
   "id": "10f7b847",
   "metadata": {},
   "source": [
    "-------------\n",
    "#### Open final project: The code below is a boiler plate for using your computers webcam video feed. Play with the `frame_processing()` function to modify the video feed  like in the exercises above. The code now implements an edge detection function, can you think of other cool modifications? Feel free to google other open-cv filters!"
   ]
  },
  {
   "cell_type": "code",
   "execution_count": null,
   "id": "b6ff49e2",
   "metadata": {},
   "outputs": [],
   "source": [
    "def frame_processing(frame):\n",
    "    frame_gray = cv.cvtColor(frame, cv.COLOR_BGR2GRAY)\n",
    "    frame_edges = cv.Canny(frame_gray, 45, 100)\n",
    "    return frame_edges"
   ]
  },
  {
   "cell_type": "code",
   "execution_count": null,
   "id": "62252109",
   "metadata": {},
   "outputs": [],
   "source": [
    "def live_video(camera_id=0, frame_processing_function=frame_processing):\n",
    "    capture = cv.VideoCapture(0)\n",
    "\n",
    "    if not capture.isOpened():\n",
    "        raise IOError(\"Cannot open webcam\")\n",
    "\n",
    "    while True:\n",
    "        got_frame, frame = capture.read()\n",
    "        if not got_frame or cv.waitKey(20) & 0xFF==ord('q'):\n",
    "            break\n",
    "        else:\n",
    "            frame_prcsd = frame_processing_function(frame)\n",
    "            # print(frame_prcsd.shape)\n",
    "            cv.imshow('Input', frame_prcsd)\n",
    "\n",
    "    capture.release()\n",
    "    cv.destroyAllWindows()"
   ]
  },
  {
   "cell_type": "code",
   "execution_count": null,
   "id": "075846d7",
   "metadata": {},
   "outputs": [],
   "source": [
    "# try a different integer for camera_id if 0 doesn't work\n",
    "live_video(camera_id=0)"
   ]
  },
  {
   "cell_type": "code",
   "execution_count": null,
   "id": "80a5e69e",
   "metadata": {},
   "outputs": [],
   "source": []
  }
 ],
 "metadata": {
  "kernelspec": {
   "display_name": "Python 3 (ipykernel)",
   "language": "python",
   "name": "python3"
  },
  "language_info": {
   "codemirror_mode": {
    "name": "ipython",
    "version": 3
   },
   "file_extension": ".py",
   "mimetype": "text/x-python",
   "name": "python",
   "nbconvert_exporter": "python",
   "pygments_lexer": "ipython3",
   "version": "3.9.15"
  }
 },
 "nbformat": 4,
 "nbformat_minor": 5
}
