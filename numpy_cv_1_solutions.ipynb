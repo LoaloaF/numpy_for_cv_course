{
 "cells": [
  {
   "cell_type": "markdown",
   "id": "07d1958d",
   "metadata": {},
   "source": [
    "Simon Steffens, 2022\n",
    "\n",
    "# Learning NumPy with computer vision - 1\n",
    "Numpy is a python library that helps us deal with large sets of numbers. It gives us the functionality to do math on groups of numbers called arrays. Arrays can be seen as lists on steroids - Let's have a look why their so useful!\n",
    "\n",
    "To better understand the problem numpy.arrays solve we need to recap how lists work in python.\n"
   ]
  },
  {
   "cell_type": "markdown",
   "id": "1ddedf93",
   "metadata": {},
   "source": [
    "----------------\n",
    "#### Exercise 1: Using the python list datatype, make a list of length 6 with arbitrary elements in it. Print out the following slices of the list: The first element, the last, the first 3, the last 2, the 2 in the middle, and lastly every second one!"
   ]
  },
  {
   "cell_type": "code",
   "execution_count": 1,
   "id": "4ea9fd42",
   "metadata": {},
   "outputs": [],
   "source": [
    "# Ex1: your code goes here\n"
   ]
  },
  {
   "cell_type": "code",
   "execution_count": 2,
   "id": "8fff5ebe",
   "metadata": {},
   "outputs": [
    {
     "name": "stdout",
     "output_type": "stream",
     "text": [
      "1\n",
      "easy\n",
      "[1, 5, 55]\n",
      "[0.9, 'easy']\n",
      "[55, 9]\n",
      "1 55 0.9\n"
     ]
    }
   ],
   "source": [
    "# Ex1: solution\n",
    "mylist = [1,5,55,9,0.9,'easy']\n",
    "print(mylist[0])\n",
    "print(mylist[-1])\n",
    "print(mylist[0:3])\n",
    "print(mylist[4:])\n",
    "print(mylist[2:4])\n",
    "print(mylist[0], mylist[2], mylist[4])"
   ]
  },
  {
   "cell_type": "markdown",
   "id": "71a782a8",
   "metadata": {},
   "source": [
    "----------------\n",
    "#### Exercise 2: Create a list of length 8 with switching ones and zeros in it (0,1,0,1,...). Print out all the ones. Now create a new list containing two elements: the original list switching between 0 and 1, and an empty list. From the newly created nested list, print out the first 0 of the original list. Hint: this is called a \"nested list\" - google it if you need help creating or slicing it. "
   ]
  },
  {
   "cell_type": "code",
   "execution_count": 3,
   "id": "421a6565",
   "metadata": {},
   "outputs": [],
   "source": [
    "# Ex2: your code goes here\n"
   ]
  },
  {
   "cell_type": "code",
   "execution_count": 4,
   "id": "6fbba716",
   "metadata": {},
   "outputs": [
    {
     "name": "stdout",
     "output_type": "stream",
     "text": [
      "1 1 1 1\n",
      "0\n"
     ]
    }
   ],
   "source": [
    "# Ex2: solution\n",
    "newlist = [0,1,0,1,0,1,0,1]\n",
    "print(newlist[1], newlist[3], newlist[5], newlist[7])\n",
    "\n",
    "nested_list = [newlist, []]\n",
    "print(nested_list[0][0])"
   ]
  },
  {
   "cell_type": "markdown",
   "id": "23cc9ba6",
   "metadata": {},
   "source": [
    "----------------\n",
    "#### Exercise 3: Let's try to visualize this nested list alternating between 0 and 1. Lookup how the matplotlib imshow function works and draw the list that way! Hint: imshow expects a nested list as input. You could try to modify the nested list from above or create a new nested list."
   ]
  },
  {
   "cell_type": "code",
   "execution_count": 5,
   "id": "0650c827",
   "metadata": {},
   "outputs": [],
   "source": [
    "# Ex3: your code goes here\n"
   ]
  },
  {
   "cell_type": "code",
   "execution_count": 6,
   "id": "fe899d92",
   "metadata": {},
   "outputs": [
    {
     "data": {
      "text/plain": [
       "<matplotlib.image.AxesImage at 0x7f5ae8859dc0>"
      ]
     },
     "execution_count": 6,
     "metadata": {},
     "output_type": "execute_result"
    },
    {
     "data": {
      "image/png": "[encoded data removed]",
      "text/plain": [
       "<Figure size 640x480 with 1 Axes>"
      ]
     },
     "metadata": {},
     "output_type": "display_data"
    }
   ],
   "source": [
    "# Ex3: solution 1\n",
    "import matplotlib.pyplot as plt\n",
    "plt.imshow([newlist])\n",
    "\n",
    "# Ex3: solution 2\n",
    "import matplotlib.pyplot as plt\n",
    "nested_list.pop(-1)\n",
    "plt.imshow(nested_list)"
   ]
  },
  {
   "cell_type": "markdown",
   "id": "0b07826f",
   "metadata": {},
   "source": [
    "----------------\n",
    "#### Exercise 4: Create a nested list of length 8 with the inner lists also having the length 8. Like to a checkerboard, set the list values to 0 for black fields, and 1 for white ones. Hint: You could try to built up the nested list row by row in a single loop. Again, visualize the result by using the imshow function but this time also passing cmap='gray'."
   ]
  },
  {
   "cell_type": "code",
   "execution_count": 7,
   "id": "589de74e",
   "metadata": {},
   "outputs": [],
   "source": [
    "# Ex4: your code goes here\n"
   ]
  },
  {
   "cell_type": "code",
   "execution_count": 8,
   "id": "c302d19a",
   "metadata": {},
   "outputs": [
    {
     "data": {
      "text/plain": [
       "<matplotlib.image.AxesImage at 0x7f5a9aab5340>"
      ]
     },
     "execution_count": 8,
     "metadata": {},
     "output_type": "execute_result"
    },
    {
     "data": {
      "image/png": "[encoded data removed]",
      "text/plain": [
       "<Figure size 640x480 with 1 Axes>"
      ]
     },
     "metadata": {},
     "output_type": "display_data"
    }
   ],
   "source": [
    "# Ex4: solution\n",
    "checkerboard_list = []\n",
    "for i in range(8):\n",
    "    row_one = [0,1,0,1,0,1,0,1]\n",
    "    row_two = [1,0,1,0,1,0,1,0]\n",
    "    if i %2 == 0:\n",
    "        checkerboard_list.append(row_one)\n",
    "    else:\n",
    "        checkerboard_list.append(row_two)\n",
    "        \n",
    "plt.imshow(checkerboard_list, cmap='gray')"
   ]
  },
  {
   "cell_type": "markdown",
   "id": "4504ad0e",
   "metadata": {},
   "source": [
    "----------------\n",
    "#### Exercise 5: Let's try to update the nested list. Print out the nested list with 42 added to each element. Next, increment only the white fields in the nested list by 5. Print out the updated list. Hint: The code for this won't look very concise. "
   ]
  },
  {
   "cell_type": "code",
   "execution_count": 9,
   "id": "c3ff7860",
   "metadata": {},
   "outputs": [],
   "source": [
    "# Ex5: your code goes here\n"
   ]
  },
  {
   "cell_type": "code",
   "execution_count": 10,
   "id": "488b13da",
   "metadata": {},
   "outputs": [
    {
     "name": "stdout",
     "output_type": "stream",
     "text": [
      "[[42, 48, 42, 48, 42, 48, 42, 48], [48, 42, 48, 42, 48, 42, 48, 42], [42, 48, 42, 48, 42, 48, 42, 48], [48, 42, 48, 42, 48, 42, 48, 42], [42, 48, 42, 48, 42, 48, 42, 48], [48, 42, 48, 42, 48, 42, 48, 42], [42, 48, 42, 48, 42, 48, 42, 48], [48, 42, 48, 42, 48, 42, 48, 42]]\n"
     ]
    }
   ],
   "source": [
    "# Ex5: solution \n",
    "for row_i in range(8):\n",
    "    for field_j in range(8):\n",
    "        checkerboard_list[row_i][field_j] += 42\n",
    "\n",
    "for row_i in range(8):\n",
    "    for field_j in range(8):\n",
    "        if checkerboard_list[row_i][field_j] == 43:\n",
    "            checkerboard_list[row_i][field_j] += 5\n",
    "print(checkerboard_list)"
   ]
  },
  {
   "cell_type": "markdown",
   "id": "7b405135",
   "metadata": {},
   "source": [
    "## NumPy\n",
    "The last exercise illustrated the weaknessess of lists in python. Representing two-dimensional data structures like the field of a chess game is possible through nested lists. However, selecting data or doing math operations is inconcise and slow! Here is where numpy comes to the rescue! Play around with the code below to understand the basics of numpy arrays. Some of the cells also include short questions to answer. For those, please write a comment with the answer into the cell."
   ]
  },
  {
   "cell_type": "code",
   "execution_count": 11,
   "id": "b2f3c44f",
   "metadata": {},
   "outputs": [],
   "source": [
    "# get the numpy library into your code\n",
    "import numpy as np"
   ]
  },
  {
   "cell_type": "code",
   "execution_count": 12,
   "id": "bcdfbfa7",
   "metadata": {},
   "outputs": [
    {
     "data": {
      "text/plain": [
       "array([0, 1, 0, 1])"
      ]
     },
     "execution_count": 12,
     "metadata": {},
     "output_type": "execute_result"
    }
   ],
   "source": [
    "# Creating an array from a python list\n",
    "l = [0,1,0,1]\n",
    "arr1 = np.array(l)\n",
    "arr1"
   ]
  },
  {
   "cell_type": "code",
   "execution_count": 13,
   "id": "9759f533",
   "metadata": {},
   "outputs": [
    {
     "data": {
      "text/plain": [
       "array([[ 0,  1,  0,  1],\n",
       "       [10, 11, 10, 22],\n",
       "       [ 0,  1,  0,  1],\n",
       "       [20, 21, 20, 21]])"
      ]
     },
     "execution_count": 13,
     "metadata": {},
     "output_type": "execute_result"
    }
   ],
   "source": [
    "# Creating an array from a nested list\n",
    "nested_list = [[0,1,0,1], [10,11,10,22], [0,1,0,1], [20,21,20,21]]\n",
    "arr2 = np.array(nested_list)\n",
    "arr2"
   ]
  },
  {
   "cell_type": "code",
   "execution_count": 14,
   "id": "626e657f",
   "metadata": {},
   "outputs": [
    {
     "name": "stdout",
     "output_type": "stream",
     "text": [
      "int64\n",
      "(4, 4)\n",
      "2\n",
      "16\n"
     ]
    }
   ],
   "source": [
    "# check info about the array - What do all of these mean? \n",
    "# What would be returned for a numpy.array like the checkerboard? Add comments next to the print statements.\n",
    "print(arr2.dtype)\n",
    "print(arr2.shape)\n",
    "print(arr2.ndim)\n",
    "print(arr2.size)"
   ]
  },
  {
   "cell_type": "code",
   "execution_count": 15,
   "id": "46b0ef7b",
   "metadata": {},
   "outputs": [
    {
     "name": "stdout",
     "output_type": "stream",
     "text": [
      "int64\n",
      "(4, 4)\n",
      "2\n",
      "16\n"
     ]
    }
   ],
   "source": [
    "# solution\n",
    "print(arr2.dtype)  # a np.array contains values of only one datatype - this is returned using .dtype property.\n",
    "                   # checkerboard: boolean or integer\n",
    "print(arr2.shape)  # the number of elements in each dimesion \n",
    "                   # checkerboard: (8,8)\n",
    "print(arr2.ndim)   # the number of dimensions in the array.\n",
    "                   # checkerboard: 2\n",
    "print(arr2.size)   # how many elements are inside the array in total\n",
    "                   # checkerboard: 64"
   ]
  },
  {
   "cell_type": "code",
   "execution_count": 16,
   "id": "07e27246",
   "metadata": {},
   "outputs": [
    {
     "name": "stdout",
     "output_type": "stream",
     "text": [
      "[[0. 0. 0. 0.]\n",
      " [0. 0. 0. 0.]]\n",
      "[[1. 1.]\n",
      " [1. 1.]\n",
      " [1. 1.]\n",
      " [1. 1.]]\n"
     ]
    }
   ],
   "source": [
    "# Creating an array of only ones or only zeros. What  does the first argument in \n",
    "# these functions do?\n",
    "zero_arr = np.zeros((2,4))\n",
    "ones_arr = np.ones((4,2))\n",
    "print(zero_arr)\n",
    "print(ones_arr)"
   ]
  },
  {
   "cell_type": "code",
   "execution_count": 17,
   "id": "1161f49f",
   "metadata": {},
   "outputs": [
    {
     "data": {
      "text/plain": [
       "array([[1, 1, 1, 1],\n",
       "       [1, 1, 1, 1],\n",
       "       [1, 1, 1, 1],\n",
       "       [1, 1, 1, 1]])"
      ]
     },
     "execution_count": 17,
     "metadata": {},
     "output_type": "execute_result"
    }
   ],
   "source": [
    "# what does the function below do? Can you find out how to produce the same but \n",
    "# with only zeros inside?\n",
    "arr3 = np.ones_like(arr2)\n",
    "arr3"
   ]
  },
  {
   "cell_type": "code",
   "execution_count": 18,
   "id": "8769e14d",
   "metadata": {},
   "outputs": [],
   "source": [
    "# solution:\n",
    "# using arr3 = np.zeros_like(arr2)\n",
    "# arr3"
   ]
  },
  {
   "cell_type": "code",
   "execution_count": 19,
   "id": "87f2394e",
   "metadata": {},
   "outputs": [
    {
     "data": {
      "text/plain": [
       "dtype('int64')"
      ]
     },
     "execution_count": 19,
     "metadata": {},
     "output_type": "execute_result"
    }
   ],
   "source": [
    "# You have seen that arrays have elements that all share the same datatyoe. \n",
    "# This property can be viewed through the dtype attribute.\n",
    "arr3.dtype"
   ]
  },
  {
   "cell_type": "code",
   "execution_count": 20,
   "id": "0b9895e2",
   "metadata": {},
   "outputs": [
    {
     "name": "stdout",
     "output_type": "stream",
     "text": [
      "[0 1 0 1]\n",
      "[0 1 0 1]\n",
      "[0. 1. 0. 1.]\n",
      "[False  True False  True]\n"
     ]
    }
   ],
   "source": [
    "# When creating arrays we can always pass the dtype argument to control\n",
    "# the datatype. Why would you use one dtype over another?\n",
    "arr4 = np.array([0,1,0,1])\n",
    "arr5 = np.array([0,1,0,1], dtype=int)\n",
    "arr6 = np.array([0,1,0,1], dtype=float)\n",
    "arr7 = np.array([0,1,0,1], dtype=bool)\n",
    "print(arr4)\n",
    "print(arr5)\n",
    "print(arr6)\n",
    "print(arr7)"
   ]
  },
  {
   "cell_type": "code",
   "execution_count": 21,
   "id": "f71cc154",
   "metadata": {},
   "outputs": [],
   "source": [
    "# solution\n",
    "# Some datatypes need more space in memory than other. \n",
    "# Boolean for example takes a tiny amount of space versus a float or integer.\n",
    "# To write code that also runs on old computers, we should use the smallest \n",
    "# possible datatype that still gives the desired functionality."
   ]
  },
  {
   "cell_type": "code",
   "execution_count": 22,
   "id": "f2e2826f",
   "metadata": {},
   "outputs": [
    {
     "data": {
      "text/plain": [
       "array([0., 1., 0., 1.])"
      ]
     },
     "execution_count": 22,
     "metadata": {},
     "output_type": "execute_result"
    }
   ],
   "source": [
    "# Find out how to change the dtype of an array. Change arr6 to a boolean array.\n",
    "arr6"
   ]
  },
  {
   "cell_type": "code",
   "execution_count": 23,
   "id": "0047c1ef",
   "metadata": {},
   "outputs": [],
   "source": [
    "# solution \n",
    "# arr6 = arr6.astype(bool)\n",
    "# arr6"
   ]
  },
  {
   "cell_type": "code",
   "execution_count": 24,
   "id": "3e5939e9",
   "metadata": {},
   "outputs": [],
   "source": [
    "# One of the powerful features of numpy is that array objets are not limited \n",
    "# to two dimensions. Try to create a numpy array of shape (4,3,2) full of zeros.\n",
    "# Hint: we have seen the function for this already. "
   ]
  },
  {
   "cell_type": "code",
   "execution_count": 25,
   "id": "a20616ca",
   "metadata": {},
   "outputs": [],
   "source": [
    "# solution\n",
    "# np.zeros((4,3,2))"
   ]
  },
  {
   "cell_type": "code",
   "execution_count": 26,
   "id": "bd0c32c4",
   "metadata": {},
   "outputs": [
    {
     "name": "stdout",
     "output_type": "stream",
     "text": [
      "Original array:\n",
      " [[ 0  1  0  1]\n",
      " [10 11 10 22]\n",
      " [ 0  1  0  1]\n",
      " [20 21 20 21]]\n",
      "\n",
      "21\n",
      "[20 21 20 21]\n",
      "[ 1 11  1 21]\n"
     ]
    }
   ],
   "source": [
    "# slicing arrays works similar to slicing lists - with the difference to nested lists \n",
    "# that we need only one pair of square brackets. If we have an array with two\n",
    "# dimensions the slice can consist of two parts - one selecting rows, one the column: \n",
    "print('Original array:\\n', arr2, end='\\n\\n')\n",
    "row_index, column_index = 3, 1\n",
    "arr8 = arr2[row_index, column_index]\n",
    "print(arr8)\n",
    "\n",
    "# Or the first dimensions (rows):\n",
    "arr9 = arr2[row_index]\n",
    "print(arr9)\n",
    "# When slicing not the first dimension as above we need to indicate that the first \n",
    "# dim should be kept using the `:` sign! This is not possible with nested lists!\n",
    "arr10 = arr2[:, column_index]\n",
    "print(arr10)\n",
    "\n",
    "# So far we only had a specific index. But in the same way we can pass (start:end:step) \n",
    "# slices to lists, we can apply them to numpy arrays! For a two dimensional array like \n",
    "# a table the slice would habe this form: arr2[row_start:row_end:row_step, col_start:col_stop:col_step]\n",
    "\n",
    "# Output three array slices on arr2 that use these slicing features. Slicing arrays comes up all the time\n",
    "# - make sure you understand this thoroughly!\n",
    "\n",
    "# Bonus: find out how to store a slice in a variable such that you could use it on\n",
    "# multiple arrays.\n"
   ]
  },
  {
   "cell_type": "code",
   "execution_count": 27,
   "id": "118eb66f",
   "metadata": {},
   "outputs": [],
   "source": [
    "# solution \n",
    "# print(arr2[0, ::2]) # first row, every second column\n",
    "# print(arr2[-2::, 0]) # last two rows, the first columns\n",
    "# print(arr2[::2, ::2]) # every second row, every second column, starting at 0"
   ]
  },
  {
   "cell_type": "markdown",
   "id": "b63482bc",
   "metadata": {},
   "source": [
    "----------------\n",
    "#### Exercise 7: Now that we have an overview of the numpy functionality, let's find out if we can solve the first exersices more easily using numpy. The questions below follow the exersices 1-6 from above. Answer each of them using numpy functions."
   ]
  },
  {
   "cell_type": "code",
   "execution_count": 28,
   "id": "85e95340",
   "metadata": {},
   "outputs": [],
   "source": [
    "# Ex7: your code goes here\n",
    "\n",
    "# 7.1: Create a numpy array with 6 arbirary integers. Print out the following slices:\n",
    "# the first element, the last, the first 3, the last 2, the 2 in the middle, and lastly every second one!\n",
    "\n",
    "# 7.2: Create a numpy array of shape (8,1) with alternating 0s and 1s. Hint: first create an array with \n",
    "# only 0s, then add 1 to a specifc slice of the original array. \n",
    "\n",
    "# 7.3: Visualize this array using matplotlibs imshow function. \n",
    "\n",
    "# 7.4: Create the 8 by 8 checkerboard with 0s and 1s using a numpy array. \n",
    "\n",
    "# 7.5: Update the the checkerboard array. First add 42 to each element. Next, increment only the white \n",
    "# fields in the array by 5. Hint: The code for this will look concise.\n"
   ]
  },
  {
   "cell_type": "code",
   "execution_count": 29,
   "id": "41d9fb36",
   "metadata": {},
   "outputs": [
    {
     "name": "stdout",
     "output_type": "stream",
     "text": [
      "1 0 [1 5 3] [1 0] [3 2] [1 3 1]\n",
      "[[0 1 0 1 0 1 0 1]]\n",
      "[[1. 0. 1. 0. 1. 0. 1. 0.]\n",
      " [0. 1. 0. 1. 0. 1. 0. 1.]\n",
      " [1. 0. 1. 0. 1. 0. 1. 0.]\n",
      " [0. 1. 0. 1. 0. 1. 0. 1.]\n",
      " [1. 0. 1. 0. 1. 0. 1. 0.]\n",
      " [0. 1. 0. 1. 0. 1. 0. 1.]\n",
      " [1. 0. 1. 0. 1. 0. 1. 0.]\n",
      " [0. 1. 0. 1. 0. 1. 0. 1.]]\n",
      "[[43. 42. 43. 42. 43. 42. 43. 42.]\n",
      " [42. 43. 42. 43. 42. 43. 42. 43.]\n",
      " [43. 42. 43. 42. 43. 42. 43. 42.]\n",
      " [42. 43. 42. 43. 42. 43. 42. 43.]\n",
      " [43. 42. 43. 42. 43. 42. 43. 42.]\n",
      " [42. 43. 42. 43. 42. 43. 42. 43.]\n",
      " [43. 42. 43. 42. 43. 42. 43. 42.]\n",
      " [42. 43. 42. 43. 42. 43. 42. 43.]]\n",
      "[[48. 42. 48. 42. 48. 42. 48. 42.]\n",
      " [42. 48. 42. 48. 42. 48. 42. 48.]\n",
      " [48. 42. 48. 42. 48. 42. 48. 42.]\n",
      " [42. 48. 42. 48. 42. 48. 42. 48.]\n",
      " [48. 42. 48. 42. 48. 42. 48. 42.]\n",
      " [42. 48. 42. 48. 42. 48. 42. 48.]\n",
      " [48. 42. 48. 42. 48. 42. 48. 42.]\n",
      " [42. 48. 42. 48. 42. 48. 42. 48.]]\n"
     ]
    },
    {
     "data": {
      "image/png": "[encoded data removed]",
      "text/plain": [
       "<Figure size 640x480 with 1 Axes>"
      ]
     },
     "metadata": {},
     "output_type": "display_data"
    }
   ],
   "source": [
    "# Ex7: solution\n",
    "\n",
    "# 7.1: Create a numpy array with 6 arbirary integers. Print out the following slices:\n",
    "# the first element, the last, the first 3, the last 2, the 2 in the middle, and lastly every second one!\n",
    "arr = np.array([1,5,3,2,1,0])\n",
    "print(arr[0], arr[-1], arr[:3], arr[-2:], arr[2:4], arr[::2])\n",
    "\n",
    "# 7.2: Create a numpy array of shape (1,8) with alternating 0s and 1s. Hint: first create an array with \n",
    "# only 0s, then add 1 to a specifc slice of the original array. \n",
    "arr = np.zeros((1,8), dtype=int)\n",
    "arr[:, 1::2] = 1\n",
    "print(arr)\n",
    "\n",
    "# 7.3: Visualize this array using matplotlibs imshow function. \n",
    "plt.imshow(arr, cmap='gray')\n",
    "\n",
    "# 7.4: Create the 8 by 8 checkerboard with 0s and 1s using a numpy array. \n",
    "cb_arr = np.zeros((8,8))\n",
    "cb_arr[0::2, ::2] = 1\n",
    "cb_arr[1::2, 1::2] = 1\n",
    "print(cb_arr)\n",
    "plt.imshow(cb_arr, cmap='gray')\n",
    "\n",
    "# 7.5: Update the the checkerboard array. First add 42 to each element. Next, increment only the white \n",
    "# fields in the array by 5. Hint: The code for this will look concise.\n",
    "cb_arr += 42\n",
    "print(cb_arr)\n",
    "cb_arr[::2, ::2] += 5\n",
    "cb_arr[1::2, 1::2] += 5\n",
    "print(cb_arr)"
   ]
  },
  {
   "cell_type": "code",
   "execution_count": null,
   "id": "cc6e1f23",
   "metadata": {},
   "outputs": [],
   "source": []
  }
 ],
 "metadata": {
  "kernelspec": {
   "display_name": "Python 3 (ipykernel)",
   "language": "python",
   "name": "python3"
  },
  "language_info": {
   "codemirror_mode": {
    "name": "ipython",
    "version": 3
   },
   "file_extension": ".py",
   "mimetype": "text/x-python",
   "name": "python",
   "nbconvert_exporter": "python",
   "pygments_lexer": "ipython3",
   "version": "3.9.15"
  }
 },
 "nbformat": 4,
 "nbformat_minor": 5
}
